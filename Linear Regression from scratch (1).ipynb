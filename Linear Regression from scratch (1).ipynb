{
 "cells": [
  {
   "cell_type": "code",
   "execution_count": 1,
   "id": "4f77dbe4-ec39-414b-9b73-ddeeba335809",
   "metadata": {},
   "outputs": [],
   "source": [
    "import matplotlib.pyplot as plt\n",
    "import numpy as np\n",
    "\n",
    "print(\"Deborah Agosto\")"
   ]
  },
  {
   "cell_type": "code",
   "execution_count": 2,
   "id": "5035981b-5291-4ffc-b455-054a2f01f645",
   "metadata": {},
   "outputs": [
    {
     "name": "stdout",
     "output_type": "stream",
     "text": [
      "Professor\n",
      "Student\n"
     ]
    }
   ],
   "source": [
    "print(\"Professor\")\n",
    "print(\"Student\")"
   ]
  },
  {
   "cell_type": "code",
   "execution_count": 7,
   "id": "f58b0cee-411a-4c83-bc7b-cc65e7323d64",
   "metadata": {},
   "outputs": [
    {
     "data": {
      "text/plain": [
       "array([[ 32.50234527,  31.70700585],\n",
       "       [ 53.42680403,  68.77759598],\n",
       "       [ 61.53035803,  62.5623823 ],\n",
       "       [ 47.47563963,  71.54663223],\n",
       "       [ 59.81320787,  87.23092513],\n",
       "       [ 55.14218841,  78.21151827],\n",
       "       [ 52.21179669,  79.64197305],\n",
       "       [ 39.29956669,  59.17148932],\n",
       "       [ 48.10504169,  75.3312423 ],\n",
       "       [ 52.55001444,  71.30087989],\n",
       "       [ 45.41973014,  55.16567715],\n",
       "       [ 54.35163488,  82.47884676],\n",
       "       [ 44.1640495 ,  62.00892325],\n",
       "       [ 58.16847072,  75.39287043],\n",
       "       [ 56.72720806,  81.43619216],\n",
       "       [ 48.95588857,  60.72360244],\n",
       "       [ 44.68719623,  82.89250373],\n",
       "       [ 60.29732685,  97.37989686],\n",
       "       [ 45.61864377,  48.84715332],\n",
       "       [ 38.81681754,  56.87721319],\n",
       "       [ 66.18981661,  83.87856466],\n",
       "       [ 65.41605175, 118.5912173 ],\n",
       "       [ 47.48120861,  57.25181946],\n",
       "       [ 41.57564262,  51.39174408],\n",
       "       [ 51.84518691,  75.38065167],\n",
       "       [ 59.37082201,  74.76556403],\n",
       "       [ 57.31000344,  95.45505292],\n",
       "       [ 63.61556125,  95.22936602],\n",
       "       [ 46.73761941,  79.05240617],\n",
       "       [ 50.55676015,  83.43207142],\n",
       "       [ 52.22399609,  63.35879032],\n",
       "       [ 35.56783005,  41.4128853 ],\n",
       "       [ 42.43647694,  76.61734128],\n",
       "       [ 58.16454011,  96.76956643],\n",
       "       [ 57.50444762,  74.08413012],\n",
       "       [ 45.44053073,  66.58814441],\n",
       "       [ 61.89622268,  77.76848242],\n",
       "       [ 33.09383174,  50.71958891],\n",
       "       [ 36.43600951,  62.12457082],\n",
       "       [ 37.67565486,  60.81024665],\n",
       "       [ 44.55560838,  52.68298337],\n",
       "       [ 43.31828263,  58.56982472],\n",
       "       [ 50.07314563,  82.90598149],\n",
       "       [ 43.87061265,  61.4247098 ],\n",
       "       [ 62.99748075, 115.2441528 ],\n",
       "       [ 32.66904376,  45.57058882],\n",
       "       [ 40.16689901,  54.0840548 ],\n",
       "       [ 53.57507753,  87.99445276],\n",
       "       [ 33.86421497,  52.72549438],\n",
       "       [ 64.70713867,  93.57611869],\n",
       "       [ 38.11982403,  80.16627545],\n",
       "       [ 44.50253806,  65.10171157],\n",
       "       [ 40.59953838,  65.56230126],\n",
       "       [ 41.72067636,  65.28088692],\n",
       "       [ 51.08863468,  73.43464155],\n",
       "       [ 55.0780959 ,  71.13972786],\n",
       "       [ 41.37772653,  79.10282968],\n",
       "       [ 62.49469743,  86.52053844],\n",
       "       [ 49.20388754,  84.74269781],\n",
       "       [ 41.10268519,  59.35885025],\n",
       "       [ 41.18201611,  61.68403752],\n",
       "       [ 50.18638949,  69.84760416],\n",
       "       [ 52.37844622,  86.09829121],\n",
       "       [ 50.13548549,  59.10883927],\n",
       "       [ 33.64470601,  69.89968164],\n",
       "       [ 39.55790122,  44.86249071],\n",
       "       [ 56.13038882,  85.49806778],\n",
       "       [ 57.36205213,  95.53668685],\n",
       "       [ 60.26921439,  70.25193442],\n",
       "       [ 35.67809389,  52.72173496],\n",
       "       [ 31.588117  ,  50.39267014],\n",
       "       [ 53.66093226,  63.64239878],\n",
       "       [ 46.68222865,  72.24725107],\n",
       "       [ 43.10782022,  57.81251298],\n",
       "       [ 70.34607562, 104.25710159],\n",
       "       [ 44.49285588,  86.64202032],\n",
       "       [ 57.5045333 ,  91.486778  ],\n",
       "       [ 36.93007661,  55.23166089],\n",
       "       [ 55.80573336,  79.55043668],\n",
       "       [ 38.95476907,  44.84712424],\n",
       "       [ 56.9012147 ,  80.20752314],\n",
       "       [ 56.86890066,  83.14274979],\n",
       "       [ 34.3331247 ,  55.72348926],\n",
       "       [ 59.04974121,  77.63418251],\n",
       "       [ 57.78822399,  99.05141484],\n",
       "       [ 54.28232871,  79.12064627],\n",
       "       [ 51.0887199 ,  69.58889785],\n",
       "       [ 50.28283635,  69.51050331],\n",
       "       [ 44.21174175,  73.68756432],\n",
       "       [ 38.00548801,  61.36690454],\n",
       "       [ 32.94047994,  67.17065577],\n",
       "       [ 53.69163957,  85.66820315],\n",
       "       [ 68.76573427, 114.85387123],\n",
       "       [ 46.2309665 ,  90.12357207],\n",
       "       [ 68.31936082,  97.91982104],\n",
       "       [ 50.03017434,  81.53699078],\n",
       "       [ 49.23976534,  72.11183247],\n",
       "       [ 50.03957594,  85.23200734],\n",
       "       [ 48.14985889,  66.22495789],\n",
       "       [ 25.12848465,  53.45439421]])"
      ]
     },
     "execution_count": 7,
     "metadata": {},
     "output_type": "execute_result"
    }
   ],
   "source": [
    "my_data = np.genfromtxt('data.csv', delimiter=',') # This line of code connects our np library to the genfromtxt function to allow the computer to retrieve the information\n",
    "my_data # This is a 2D array that holds 2 columns, one column being X(independent) and the other one being Y(dependent)"
   ]
  },
  {
   "cell_type": "code",
   "execution_count": 8,
   "id": "62fd70b6-a526-4516-b2c1-9c8a55010c75",
   "metadata": {},
   "outputs": [
    {
     "data": {
      "text/plain": [
       "array([32.50234527, 53.42680403, 61.53035803, 47.47563963, 59.81320787,\n",
       "       55.14218841, 52.21179669, 39.29956669, 48.10504169, 52.55001444,\n",
       "       45.41973014, 54.35163488, 44.1640495 , 58.16847072, 56.72720806,\n",
       "       48.95588857, 44.68719623, 60.29732685, 45.61864377, 38.81681754,\n",
       "       66.18981661, 65.41605175, 47.48120861, 41.57564262, 51.84518691,\n",
       "       59.37082201, 57.31000344, 63.61556125, 46.73761941, 50.55676015,\n",
       "       52.22399609, 35.56783005, 42.43647694, 58.16454011, 57.50444762,\n",
       "       45.44053073, 61.89622268, 33.09383174, 36.43600951, 37.67565486,\n",
       "       44.55560838, 43.31828263, 50.07314563, 43.87061265, 62.99748075,\n",
       "       32.66904376, 40.16689901, 53.57507753, 33.86421497, 64.70713867,\n",
       "       38.11982403, 44.50253806, 40.59953838, 41.72067636, 51.08863468,\n",
       "       55.0780959 , 41.37772653, 62.49469743, 49.20388754, 41.10268519,\n",
       "       41.18201611, 50.18638949, 52.37844622, 50.13548549, 33.64470601,\n",
       "       39.55790122, 56.13038882, 57.36205213, 60.26921439, 35.67809389,\n",
       "       31.588117  , 53.66093226, 46.68222865, 43.10782022, 70.34607562,\n",
       "       44.49285588, 57.5045333 , 36.93007661, 55.80573336, 38.95476907,\n",
       "       56.9012147 , 56.86890066, 34.3331247 , 59.04974121, 57.78822399,\n",
       "       54.28232871, 51.0887199 , 50.28283635, 44.21174175, 38.00548801,\n",
       "       32.94047994, 53.69163957, 68.76573427, 46.2309665 , 68.31936082,\n",
       "       50.03017434, 49.23976534, 50.03957594, 48.14985889, 25.12848465])"
      ]
     },
     "execution_count": 8,
     "metadata": {},
     "output_type": "execute_result"
    }
   ],
   "source": [
    "X = my_data[:, 0]\n",
    "X"
   ]
  },
  {
   "cell_type": "code",
   "execution_count": 9,
   "id": "84bb24b7-9aed-406b-b79e-e69c40f491e3",
   "metadata": {},
   "outputs": [
    {
     "data": {
      "text/plain": [
       "array([[32.50234527],\n",
       "       [53.42680403],\n",
       "       [61.53035803],\n",
       "       [47.47563963],\n",
       "       [59.81320787],\n",
       "       [55.14218841],\n",
       "       [52.21179669],\n",
       "       [39.29956669],\n",
       "       [48.10504169],\n",
       "       [52.55001444],\n",
       "       [45.41973014],\n",
       "       [54.35163488],\n",
       "       [44.1640495 ],\n",
       "       [58.16847072],\n",
       "       [56.72720806],\n",
       "       [48.95588857],\n",
       "       [44.68719623],\n",
       "       [60.29732685],\n",
       "       [45.61864377],\n",
       "       [38.81681754],\n",
       "       [66.18981661],\n",
       "       [65.41605175],\n",
       "       [47.48120861],\n",
       "       [41.57564262],\n",
       "       [51.84518691],\n",
       "       [59.37082201],\n",
       "       [57.31000344],\n",
       "       [63.61556125],\n",
       "       [46.73761941],\n",
       "       [50.55676015],\n",
       "       [52.22399609],\n",
       "       [35.56783005],\n",
       "       [42.43647694],\n",
       "       [58.16454011],\n",
       "       [57.50444762],\n",
       "       [45.44053073],\n",
       "       [61.89622268],\n",
       "       [33.09383174],\n",
       "       [36.43600951],\n",
       "       [37.67565486],\n",
       "       [44.55560838],\n",
       "       [43.31828263],\n",
       "       [50.07314563],\n",
       "       [43.87061265],\n",
       "       [62.99748075],\n",
       "       [32.66904376],\n",
       "       [40.16689901],\n",
       "       [53.57507753],\n",
       "       [33.86421497],\n",
       "       [64.70713867],\n",
       "       [38.11982403],\n",
       "       [44.50253806],\n",
       "       [40.59953838],\n",
       "       [41.72067636],\n",
       "       [51.08863468],\n",
       "       [55.0780959 ],\n",
       "       [41.37772653],\n",
       "       [62.49469743],\n",
       "       [49.20388754],\n",
       "       [41.10268519],\n",
       "       [41.18201611],\n",
       "       [50.18638949],\n",
       "       [52.37844622],\n",
       "       [50.13548549],\n",
       "       [33.64470601],\n",
       "       [39.55790122],\n",
       "       [56.13038882],\n",
       "       [57.36205213],\n",
       "       [60.26921439],\n",
       "       [35.67809389],\n",
       "       [31.588117  ],\n",
       "       [53.66093226],\n",
       "       [46.68222865],\n",
       "       [43.10782022],\n",
       "       [70.34607562],\n",
       "       [44.49285588],\n",
       "       [57.5045333 ],\n",
       "       [36.93007661],\n",
       "       [55.80573336],\n",
       "       [38.95476907],\n",
       "       [56.9012147 ],\n",
       "       [56.86890066],\n",
       "       [34.3331247 ],\n",
       "       [59.04974121],\n",
       "       [57.78822399],\n",
       "       [54.28232871],\n",
       "       [51.0887199 ],\n",
       "       [50.28283635],\n",
       "       [44.21174175],\n",
       "       [38.00548801],\n",
       "       [32.94047994],\n",
       "       [53.69163957],\n",
       "       [68.76573427],\n",
       "       [46.2309665 ],\n",
       "       [68.31936082],\n",
       "       [50.03017434],\n",
       "       [49.23976534],\n",
       "       [50.03957594],\n",
       "       [48.14985889],\n",
       "       [25.12848465]])"
      ]
     },
     "execution_count": 9,
     "metadata": {},
     "output_type": "execute_result"
    }
   ],
   "source": [
    "X = my_data[:, 0].reshape(-1,1) # -1 tells numpy to figure out the dimension by itself\n",
    "# my_data[:, 0] --> [row,cols]  : means to get all the rows and 0 means get the 1st column\n",
    "X"
   ]
  },
  {
   "cell_type": "code",
   "execution_count": 23,
   "id": "d62130ed-7e7b-4dd8-b8d3-3c416e3f0046",
   "metadata": {},
   "outputs": [
    {
     "data": {
      "text/plain": [
       "array([[1.],\n",
       "       [1.],\n",
       "       [1.],\n",
       "       [1.],\n",
       "       [1.],\n",
       "       [1.],\n",
       "       [1.],\n",
       "       [1.],\n",
       "       [1.],\n",
       "       [1.],\n",
       "       [1.],\n",
       "       [1.],\n",
       "       [1.],\n",
       "       [1.],\n",
       "       [1.],\n",
       "       [1.],\n",
       "       [1.],\n",
       "       [1.],\n",
       "       [1.],\n",
       "       [1.],\n",
       "       [1.],\n",
       "       [1.],\n",
       "       [1.],\n",
       "       [1.],\n",
       "       [1.],\n",
       "       [1.],\n",
       "       [1.],\n",
       "       [1.],\n",
       "       [1.],\n",
       "       [1.],\n",
       "       [1.],\n",
       "       [1.],\n",
       "       [1.],\n",
       "       [1.],\n",
       "       [1.],\n",
       "       [1.],\n",
       "       [1.],\n",
       "       [1.],\n",
       "       [1.],\n",
       "       [1.],\n",
       "       [1.],\n",
       "       [1.],\n",
       "       [1.],\n",
       "       [1.],\n",
       "       [1.],\n",
       "       [1.],\n",
       "       [1.],\n",
       "       [1.],\n",
       "       [1.],\n",
       "       [1.],\n",
       "       [1.],\n",
       "       [1.],\n",
       "       [1.],\n",
       "       [1.],\n",
       "       [1.],\n",
       "       [1.],\n",
       "       [1.],\n",
       "       [1.],\n",
       "       [1.],\n",
       "       [1.],\n",
       "       [1.],\n",
       "       [1.],\n",
       "       [1.],\n",
       "       [1.],\n",
       "       [1.],\n",
       "       [1.],\n",
       "       [1.],\n",
       "       [1.],\n",
       "       [1.],\n",
       "       [1.],\n",
       "       [1.],\n",
       "       [1.],\n",
       "       [1.],\n",
       "       [1.],\n",
       "       [1.],\n",
       "       [1.],\n",
       "       [1.],\n",
       "       [1.],\n",
       "       [1.],\n",
       "       [1.],\n",
       "       [1.],\n",
       "       [1.],\n",
       "       [1.],\n",
       "       [1.],\n",
       "       [1.],\n",
       "       [1.],\n",
       "       [1.],\n",
       "       [1.],\n",
       "       [1.],\n",
       "       [1.],\n",
       "       [1.],\n",
       "       [1.],\n",
       "       [1.],\n",
       "       [1.],\n",
       "       [1.],\n",
       "       [1.],\n",
       "       [1.],\n",
       "       [1.],\n",
       "       [1.],\n",
       "       [1.]])"
      ]
     },
     "execution_count": 23,
     "metadata": {},
     "output_type": "execute_result"
    }
   ],
   "source": [
    "ones = np.ones([X.shape[0], 1])\n",
    "ones"
   ]
  },
  {
   "cell_type": "code",
   "execution_count": 22,
   "id": "7ed76610-0874-4f48-bc63-c1f415770932",
   "metadata": {},
   "outputs": [
    {
     "data": {
      "text/plain": [
       "array([[ 1.        ,  1.        ,  1.        , 32.50234527],\n",
       "       [ 1.        ,  1.        ,  1.        , 53.42680403],\n",
       "       [ 1.        ,  1.        ,  1.        , 61.53035803],\n",
       "       [ 1.        ,  1.        ,  1.        , 47.47563963],\n",
       "       [ 1.        ,  1.        ,  1.        , 59.81320787],\n",
       "       [ 1.        ,  1.        ,  1.        , 55.14218841],\n",
       "       [ 1.        ,  1.        ,  1.        , 52.21179669],\n",
       "       [ 1.        ,  1.        ,  1.        , 39.29956669],\n",
       "       [ 1.        ,  1.        ,  1.        , 48.10504169],\n",
       "       [ 1.        ,  1.        ,  1.        , 52.55001444],\n",
       "       [ 1.        ,  1.        ,  1.        , 45.41973014],\n",
       "       [ 1.        ,  1.        ,  1.        , 54.35163488],\n",
       "       [ 1.        ,  1.        ,  1.        , 44.1640495 ],\n",
       "       [ 1.        ,  1.        ,  1.        , 58.16847072],\n",
       "       [ 1.        ,  1.        ,  1.        , 56.72720806],\n",
       "       [ 1.        ,  1.        ,  1.        , 48.95588857],\n",
       "       [ 1.        ,  1.        ,  1.        , 44.68719623],\n",
       "       [ 1.        ,  1.        ,  1.        , 60.29732685],\n",
       "       [ 1.        ,  1.        ,  1.        , 45.61864377],\n",
       "       [ 1.        ,  1.        ,  1.        , 38.81681754],\n",
       "       [ 1.        ,  1.        ,  1.        , 66.18981661],\n",
       "       [ 1.        ,  1.        ,  1.        , 65.41605175],\n",
       "       [ 1.        ,  1.        ,  1.        , 47.48120861],\n",
       "       [ 1.        ,  1.        ,  1.        , 41.57564262],\n",
       "       [ 1.        ,  1.        ,  1.        , 51.84518691],\n",
       "       [ 1.        ,  1.        ,  1.        , 59.37082201],\n",
       "       [ 1.        ,  1.        ,  1.        , 57.31000344],\n",
       "       [ 1.        ,  1.        ,  1.        , 63.61556125],\n",
       "       [ 1.        ,  1.        ,  1.        , 46.73761941],\n",
       "       [ 1.        ,  1.        ,  1.        , 50.55676015],\n",
       "       [ 1.        ,  1.        ,  1.        , 52.22399609],\n",
       "       [ 1.        ,  1.        ,  1.        , 35.56783005],\n",
       "       [ 1.        ,  1.        ,  1.        , 42.43647694],\n",
       "       [ 1.        ,  1.        ,  1.        , 58.16454011],\n",
       "       [ 1.        ,  1.        ,  1.        , 57.50444762],\n",
       "       [ 1.        ,  1.        ,  1.        , 45.44053073],\n",
       "       [ 1.        ,  1.        ,  1.        , 61.89622268],\n",
       "       [ 1.        ,  1.        ,  1.        , 33.09383174],\n",
       "       [ 1.        ,  1.        ,  1.        , 36.43600951],\n",
       "       [ 1.        ,  1.        ,  1.        , 37.67565486],\n",
       "       [ 1.        ,  1.        ,  1.        , 44.55560838],\n",
       "       [ 1.        ,  1.        ,  1.        , 43.31828263],\n",
       "       [ 1.        ,  1.        ,  1.        , 50.07314563],\n",
       "       [ 1.        ,  1.        ,  1.        , 43.87061265],\n",
       "       [ 1.        ,  1.        ,  1.        , 62.99748075],\n",
       "       [ 1.        ,  1.        ,  1.        , 32.66904376],\n",
       "       [ 1.        ,  1.        ,  1.        , 40.16689901],\n",
       "       [ 1.        ,  1.        ,  1.        , 53.57507753],\n",
       "       [ 1.        ,  1.        ,  1.        , 33.86421497],\n",
       "       [ 1.        ,  1.        ,  1.        , 64.70713867],\n",
       "       [ 1.        ,  1.        ,  1.        , 38.11982403],\n",
       "       [ 1.        ,  1.        ,  1.        , 44.50253806],\n",
       "       [ 1.        ,  1.        ,  1.        , 40.59953838],\n",
       "       [ 1.        ,  1.        ,  1.        , 41.72067636],\n",
       "       [ 1.        ,  1.        ,  1.        , 51.08863468],\n",
       "       [ 1.        ,  1.        ,  1.        , 55.0780959 ],\n",
       "       [ 1.        ,  1.        ,  1.        , 41.37772653],\n",
       "       [ 1.        ,  1.        ,  1.        , 62.49469743],\n",
       "       [ 1.        ,  1.        ,  1.        , 49.20388754],\n",
       "       [ 1.        ,  1.        ,  1.        , 41.10268519],\n",
       "       [ 1.        ,  1.        ,  1.        , 41.18201611],\n",
       "       [ 1.        ,  1.        ,  1.        , 50.18638949],\n",
       "       [ 1.        ,  1.        ,  1.        , 52.37844622],\n",
       "       [ 1.        ,  1.        ,  1.        , 50.13548549],\n",
       "       [ 1.        ,  1.        ,  1.        , 33.64470601],\n",
       "       [ 1.        ,  1.        ,  1.        , 39.55790122],\n",
       "       [ 1.        ,  1.        ,  1.        , 56.13038882],\n",
       "       [ 1.        ,  1.        ,  1.        , 57.36205213],\n",
       "       [ 1.        ,  1.        ,  1.        , 60.26921439],\n",
       "       [ 1.        ,  1.        ,  1.        , 35.67809389],\n",
       "       [ 1.        ,  1.        ,  1.        , 31.588117  ],\n",
       "       [ 1.        ,  1.        ,  1.        , 53.66093226],\n",
       "       [ 1.        ,  1.        ,  1.        , 46.68222865],\n",
       "       [ 1.        ,  1.        ,  1.        , 43.10782022],\n",
       "       [ 1.        ,  1.        ,  1.        , 70.34607562],\n",
       "       [ 1.        ,  1.        ,  1.        , 44.49285588],\n",
       "       [ 1.        ,  1.        ,  1.        , 57.5045333 ],\n",
       "       [ 1.        ,  1.        ,  1.        , 36.93007661],\n",
       "       [ 1.        ,  1.        ,  1.        , 55.80573336],\n",
       "       [ 1.        ,  1.        ,  1.        , 38.95476907],\n",
       "       [ 1.        ,  1.        ,  1.        , 56.9012147 ],\n",
       "       [ 1.        ,  1.        ,  1.        , 56.86890066],\n",
       "       [ 1.        ,  1.        ,  1.        , 34.3331247 ],\n",
       "       [ 1.        ,  1.        ,  1.        , 59.04974121],\n",
       "       [ 1.        ,  1.        ,  1.        , 57.78822399],\n",
       "       [ 1.        ,  1.        ,  1.        , 54.28232871],\n",
       "       [ 1.        ,  1.        ,  1.        , 51.0887199 ],\n",
       "       [ 1.        ,  1.        ,  1.        , 50.28283635],\n",
       "       [ 1.        ,  1.        ,  1.        , 44.21174175],\n",
       "       [ 1.        ,  1.        ,  1.        , 38.00548801],\n",
       "       [ 1.        ,  1.        ,  1.        , 32.94047994],\n",
       "       [ 1.        ,  1.        ,  1.        , 53.69163957],\n",
       "       [ 1.        ,  1.        ,  1.        , 68.76573427],\n",
       "       [ 1.        ,  1.        ,  1.        , 46.2309665 ],\n",
       "       [ 1.        ,  1.        ,  1.        , 68.31936082],\n",
       "       [ 1.        ,  1.        ,  1.        , 50.03017434],\n",
       "       [ 1.        ,  1.        ,  1.        , 49.23976534],\n",
       "       [ 1.        ,  1.        ,  1.        , 50.03957594],\n",
       "       [ 1.        ,  1.        ,  1.        , 48.14985889],\n",
       "       [ 1.        ,  1.        ,  1.        , 25.12848465]])"
      ]
     },
     "execution_count": 22,
     "metadata": {},
     "output_type": "execute_result"
    }
   ],
   "source": [
    "X = np.concatenate((ones, X), 1)\n",
    "X"
   ]
  },
  {
   "cell_type": "code",
   "execution_count": null,
   "id": "6ef8dc68-2e5c-4124-89ca-9c2c480cbf45",
   "metadata": {},
   "outputs": [
    {
     "data": {
      "text/plain": [
       "array([[ 31.70700585],\n",
       "       [ 68.77759598],\n",
       "       [ 62.5623823 ],\n",
       "       [ 71.54663223],\n",
       "       [ 87.23092513],\n",
       "       [ 78.21151827],\n",
       "       [ 79.64197305],\n",
       "       [ 59.17148932],\n",
       "       [ 75.3312423 ],\n",
       "       [ 71.30087989],\n",
       "       [ 55.16567715],\n",
       "       [ 82.47884676],\n",
       "       [ 62.00892325],\n",
       "       [ 75.39287043],\n",
       "       [ 81.43619216],\n",
       "       [ 60.72360244],\n",
       "       [ 82.89250373],\n",
       "       [ 97.37989686],\n",
       "       [ 48.84715332],\n",
       "       [ 56.87721319],\n",
       "       [ 83.87856466],\n",
       "       [118.5912173 ],\n",
       "       [ 57.25181946],\n",
       "       [ 51.39174408],\n",
       "       [ 75.38065167],\n",
       "       [ 74.76556403],\n",
       "       [ 95.45505292],\n",
       "       [ 95.22936602],\n",
       "       [ 79.05240617],\n",
       "       [ 83.43207142],\n",
       "       [ 63.35879032],\n",
       "       [ 41.4128853 ],\n",
       "       [ 76.61734128],\n",
       "       [ 96.76956643],\n",
       "       [ 74.08413012],\n",
       "       [ 66.58814441],\n",
       "       [ 77.76848242],\n",
       "       [ 50.71958891],\n",
       "       [ 62.12457082],\n",
       "       [ 60.81024665],\n",
       "       [ 52.68298337],\n",
       "       [ 58.56982472],\n",
       "       [ 82.90598149],\n",
       "       [ 61.4247098 ],\n",
       "       [115.2441528 ],\n",
       "       [ 45.57058882],\n",
       "       [ 54.0840548 ],\n",
       "       [ 87.99445276],\n",
       "       [ 52.72549438],\n",
       "       [ 93.57611869],\n",
       "       [ 80.16627545],\n",
       "       [ 65.10171157],\n",
       "       [ 65.56230126],\n",
       "       [ 65.28088692],\n",
       "       [ 73.43464155],\n",
       "       [ 71.13972786],\n",
       "       [ 79.10282968],\n",
       "       [ 86.52053844],\n",
       "       [ 84.74269781],\n",
       "       [ 59.35885025],\n",
       "       [ 61.68403752],\n",
       "       [ 69.84760416],\n",
       "       [ 86.09829121],\n",
       "       [ 59.10883927],\n",
       "       [ 69.89968164],\n",
       "       [ 44.86249071],\n",
       "       [ 85.49806778],\n",
       "       [ 95.53668685],\n",
       "       [ 70.25193442],\n",
       "       [ 52.72173496],\n",
       "       [ 50.39267014],\n",
       "       [ 63.64239878],\n",
       "       [ 72.24725107],\n",
       "       [ 57.81251298],\n",
       "       [104.25710159],\n",
       "       [ 86.64202032],\n",
       "       [ 91.486778  ],\n",
       "       [ 55.23166089],\n",
       "       [ 79.55043668],\n",
       "       [ 44.84712424],\n",
       "       [ 80.20752314],\n",
       "       [ 83.14274979],\n",
       "       [ 55.72348926],\n",
       "       [ 77.63418251],\n",
       "       [ 99.05141484],\n",
       "       [ 79.12064627],\n",
       "       [ 69.58889785],\n",
       "       [ 69.51050331],\n",
       "       [ 73.68756432],\n",
       "       [ 61.36690454],\n",
       "       [ 67.17065577],\n",
       "       [ 85.66820315],\n",
       "       [114.85387123],\n",
       "       [ 90.12357207],\n",
       "       [ 97.91982104],\n",
       "       [ 81.53699078],\n",
       "       [ 72.11183247],\n",
       "       [ 85.23200734],\n",
       "       [ 66.22495789],\n",
       "       [ 53.45439421]])"
      ]
     },
     "execution_count": 12,
     "metadata": {},
     "output_type": "execute_result"
    }
   ],
   "source": [
    "y = my_data[:, 1].reshape(-1,1) \n",
    "y"
   ]
  },
  {
   "cell_type": "markdown",
   "id": "fe5a82a8-be31-482c-ab61-62f716fa1a1c",
   "metadata": {},
   "source": [
    "# plotting the graph"
   ]
  },
  {
   "cell_type": "code",
   "execution_count": 13,
   "id": "e2bf194b-1d88-4067-9d0e-b90283fc38c6",
   "metadata": {},
   "outputs": [
    {
     "data": {
      "text/plain": [
       "<matplotlib.collections.PathCollection at 0x1cbe1660490>"
      ]
     },
     "execution_count": 13,
     "metadata": {},
     "output_type": "execute_result"
    },
    {
     "data": {
      "image/png": "[encoded data removed]",
      "text/plain": [
       "<Figure size 640x480 with 1 Axes>"
      ]
     },
     "metadata": {},
     "output_type": "display_data"
    }
   ],
   "source": [
    "plt.scatter(my_data[:, 0].reshape(-1,1), y)"
   ]
  },
  {
   "cell_type": "code",
   "execution_count": null,
   "id": "383c3e75-fb1b-4578-ae62-1b2fdb2213a8",
   "metadata": {},
   "outputs": [
    {
     "name": "stdout",
     "output_type": "stream",
     "text": [
      "[[1. 1.]]\n",
      "[[1.]\n",
      " [1.]]\n"
     ]
    }
   ],
   "source": [
    "alpha = 0.0001 # learning rate controls how much the model updates its parameters\n",
    "iters = 1000 # Iterations\n",
    "\n",
    "# theta is a row vector\n",
    "theta = np.array([[1.0, 1.0]])\n",
    "print(theta)\n",
    "print(theta.T)"
   ]
  },
  {
   "cell_type": "code",
   "execution_count": 15,
   "id": "6e8c1bb6-9876-4eb0-be45-69513a100060",
   "metadata": {},
   "outputs": [],
   "source": [
    "def computeCost(X, y, theta):\n",
    "    inner = np.power(((X @ theta.T) - y), 2) # @ means matrix multiplication of arrays. If we want to use * for multiplication we will have to convert all arrays to matrices\n",
    "    return np.sum(inner) / (2 * len(X))"
   ]
  },
  {
   "cell_type": "code",
   "execution_count": null,
   "id": "f49528b6-9c13-4e25-b1cb-64c047c8f8e0",
   "metadata": {},
   "outputs": [
    {
     "data": {
      "text/plain": [
       "np.float64(319.40631589398157)"
      ]
     },
     "execution_count": 16,
     "metadata": {},
     "output_type": "execute_result"
    }
   ],
   "source": [
    "computeCost(X, y, theta)"
   ]
  },
  {
   "cell_type": "code",
   "execution_count": null,
   "id": "fbab2d98-3045-4b4b-832f-7afad5789f9a",
   "metadata": {},
   "outputs": [],
   "source": [
    "def gradientDescent(X, y, theta, alpha, iters):\n",
    "    for i in range(iters):\n",
    "        theta = theta - (alpha/len(X)) * np.sum((X @ theta.T - y) * X, axis=0)\n",
    "        cost = computeCost(X, y, theta)\n",
    "        # if i % 10 == 0: # then we look at cost every ten loops for debugging purposes\n",
    "        #     print(cost)\n",
    "    return (theta, cost)"
   ]
  },
  {
   "cell_type": "code",
   "execution_count": 18,
   "id": "d5d95146-a87a-4cd5-a1fc-6d8db9943e5d",
   "metadata": {},
   "outputs": [
    {
     "name": "stdout",
     "output_type": "stream",
     "text": [
      "[[1.03533399 1.45914293]] 56.0419737779817\n"
     ]
    }
   ],
   "source": [
    "g, cost = gradientDescent(X, y, theta, alpha, iters)  \n",
    "print(g, cost)"
   ]
  },
  {
   "cell_type": "code",
   "execution_count": 19,
   "id": "76a80cbc-8551-4670-9d5e-dfd2bac33b39",
   "metadata": {},
   "outputs": [],
   "source": [
    "g =np.array([[ 1.03533399,  1.45914293]])\n",
    "cost = 56.041973777981703"
   ]
  },
  {
   "cell_type": "code",
   "execution_count": null,
   "id": "a9597cec-419d-429e-b430-3efd0edba909",
   "metadata": {},
   "outputs": [
    {
     "data": {
      "text/plain": [
       "[<matplotlib.lines.Line2D at 0x1cbe13480d0>]"
      ]
     },
     "execution_count": 20,
     "metadata": {},
     "output_type": "execute_result"
    },
    {
     "data": {
      "image/png": "[encoded data removed]",
      "text/plain": [
       "<Figure size 640x480 with 1 Axes>"
      ]
     },
     "metadata": {},
     "output_type": "display_data"
    }
   ],
   "source": [
    "plt.scatter(my_data[:, 0].reshape(-1,1), y)\n",
    "axes = plt.gca()\n",
    "x_vals = np.array(axes.get_xlim()) \n",
    "y_vals = g[0][0] + g[0][1]* x_vals #the line equation --> MX+B (Slope)\n",
    "plt.plot(x_vals, y_vals, '--')"
   ]
  }
 ],
 "metadata": {
  "kernelspec": {
   "display_name": "Python 3",
   "language": "python",
   "name": "python3"
  },
  "language_info": {
   "codemirror_mode": {
    "name": "ipython",
    "version": 3
   },
   "file_extension": ".py",
   "mimetype": "text/x-python",
   "name": "python",
   "nbconvert_exporter": "python",
   "pygments_lexer": "ipython3",
   "version": "3.11.9"
  }
 },
 "nbformat": 4,
 "nbformat_minor": 5
}
